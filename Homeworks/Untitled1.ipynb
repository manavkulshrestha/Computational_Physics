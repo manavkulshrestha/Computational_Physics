{
 "cells": [
  {
   "cell_type": "code",
   "execution_count": null,
   "metadata": {},
   "outputs": [
    {
     "name": "stdout",
     "output_type": "stream",
     "text": [
      "N? 1000\n",
      "\n",
      "With 1000 slices: -0.225521\n",
      "\n",
      "Simpsons' rule: -0.22552082112848543\n",
      "\n",
      "Exact:  -0.22545025299766908\n"
     ]
    }
   ],
   "source": [
    "from scipy.integrate import quad\n",
    "from numpy import linspace\n",
    "import numpy as np\n",
    "from numpy import sin,cos,pi\n",
    "\n",
    "def f(x):\n",
    "\treturn x*sin(x**2)\n",
    "\n",
    "lower = 1\n",
    "upper = 5\n",
    "\n",
    "def trap(f,a,b,N):\n",
    "    ls = linspace(a,b,N)\n",
    "    coeff = np.full(N,1)\n",
    "    coeff[0] = .5\n",
    "    coeff[-1] = .5\n",
    "    \n",
    "    return ((b-a)/N) * np.sum(coeff*f(ls))\n",
    "\n",
    "def simps(f,a,b,N):\n",
    "    add = N&1\n",
    "    N += add\n",
    "    if add == 1:\n",
    "        print(f'Changed N to be {N}')\n",
    "    \n",
    "    return trap(f,a,b,N)\n",
    "\n",
    "while True:\n",
    "    N = int(input('N? '))\n",
    "    if N < 1:\n",
    "        break;\n",
    "        \n",
    "    print(f'\\nWith {N} slices: {trap(f,lower,upper,N):.6f}\\n')    \n",
    "    print(f'Simpsons\\' rule: {simps(f,lower,upper,N)}\\n')\n",
    "    print('Exact: ',quad(f,1,5)[0]);"
   ]
  },
  {
   "cell_type": "code",
   "execution_count": null,
   "metadata": {},
   "outputs": [],
   "source": []
  }
 ],
 "metadata": {
  "kernelspec": {
   "display_name": "Python 3",
   "language": "python",
   "name": "python3"
  }
 },
 "nbformat": 4,
 "nbformat_minor": 2
}
