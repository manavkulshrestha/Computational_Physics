{
 "cells": [
  {
   "cell_type": "markdown",
   "metadata": {},
   "source": [
    "# P281 Homework Set 0\n",
    "\n",
    "## Manav Kulshrestha. 1/29/19."
   ]
  },
  {
   "cell_type": "markdown",
   "metadata": {},
   "source": [
    "## 1. Square of a number\n",
    "Caluclates the square ($x^2$) of the number provided ($x$)."
   ]
  },
  {
   "cell_type": "code",
   "execution_count": 2,
   "metadata": {},
   "outputs": [
    {
     "name": "stdout",
     "output_type": "stream",
     "text": [
      "x? 5\n",
      "x**2 = 25.0\n"
     ]
    }
   ],
   "source": [
    "#gets input, converts it to a float, and then prints it using an f-string.\n",
    "print(f'x**2 = {float(input(\"x? \"))**2}')"
   ]
  },
  {
   "cell_type": "markdown",
   "metadata": {},
   "source": [
    "## 2. Evaluating whether a year is a leap year\n",
    "Evaluates whether the year provided is a leap year."
   ]
  },
  {
   "cell_type": "code",
   "execution_count": 3,
   "metadata": {},
   "outputs": [
    {
     "name": "stdout",
     "output_type": "stream",
     "text": [
      "year? 1300\n",
      "not a leap year\n"
     ]
    }
   ],
   "source": [
    "#getting input\n",
    "year = int(input('year? '))\n",
    "\n",
    "#evaluates whether year inputted is a leap year (using a ternary) and prints it (using an f-string).\n",
    "print(f'{\"\" if year%400 == 0 or (year%4 == 0 and not year%100 == 0) else \"not a \"}leap year')"
   ]
  },
  {
   "cell_type": "markdown",
   "metadata": {},
   "source": [
    "## 3. Calculating circumference for an ellipse\n",
    "Caluclates the circumference for an ellipse with semi-major axis (distance from center to furthest point on circumference) a and semi-minor axis b, the circumference is $C = 4aE(e)$ where $e = \\sqrt{1 − \\frac{b^2}{a^2}}$ and $E(e)$ is the “complete elliptic integral of the second kind.”"
   ]
  },
  {
   "cell_type": "code",
   "execution_count": 1,
   "metadata": {},
   "outputs": [
    {
     "name": "stdout",
     "output_type": "stream",
     "text": [
      "Enter a: 5\n",
      "Enter b: 3\n",
      "C = 23.56979848655677\n"
     ]
    }
   ],
   "source": [
    "from scipy.special import ellipe\n",
    "from numpy import sqrt\n",
    "\n",
    "#getting input\n",
    "a = float(input('Enter a: '))\n",
    "b = float(input('Enter b: '))\n",
    "\n",
    "\n",
    "#calculating and printing C (using f-strings).\n",
    "print(f'C = {4*a*ellipe(sqrt(1-((b**2)/(a**2))))}')"
   ]
  }
 ],
 "metadata": {
  "kernelspec": {
   "display_name": "Python 3",
   "language": "python",
   "name": "python3"
  },
  "language_info": {
   "codemirror_mode": {
    "name": "ipython",
    "version": 3
   },
   "file_extension": ".py",
   "mimetype": "text/x-python",
   "name": "python",
   "nbconvert_exporter": "python",
   "pygments_lexer": "ipython3",
   "version": "3.7.1"
  }
 },
 "nbformat": 4,
 "nbformat_minor": 2
}
