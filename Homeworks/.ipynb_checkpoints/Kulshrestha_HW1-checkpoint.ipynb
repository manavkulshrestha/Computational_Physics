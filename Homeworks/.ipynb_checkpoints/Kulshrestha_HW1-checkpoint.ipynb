{
 "cells": [
  {
   "cell_type": "markdown",
   "metadata": {},
   "source": [
    "# Physics 281: Computational Physics\n",
    "\\- Manav Kulshrestha\n",
    "\n",
    "## Homework Set 1. 2/7/19."
   ]
  },
  {
   "cell_type": "markdown",
   "metadata": {},
   "source": [
    "### 1. Newman Exercise 2.2: Altitude of a sateliite\n",
    "#### a)\n",
    "\n",
    "Let the mass of the satelite be $m$ and the radius of its orbit be $r$. $F = ma$ where $F_{g} = G\\frac{Mm}{r^2}$ is the gravitational force on the satellite and $a = \\omega^2r$ is the acceleration for circular motion. The angular velocity of the satelite can be expressed in terms of the the period as $\\omega = \\frac{2\\pi}{T}$, substituting which into the equation for the force equation gives us $F_{c} = m(\\frac{2\\pi}{T})^2r$. Since $F_{c} = F_{g}$, the respective expressions can be set as equal to each other.\n",
    "\n",
    "$$m(\\frac{2\\pi}{T})^2r = G\\frac{Mm}{r^2} \\implies r = (\\frac{GMT^2}{4\\pi ^2})^\\frac{1}{3}$$\n",
    "\n",
    "where $r$ is the distance from the centre of the Earth to the satelite. From this, the altitude, $h$, of the satelite can be expressed as\n",
    "\n",
    "$$h = (\\frac{GMT^2}{4\\pi ^2})^\\frac{1}{3} - R$$\n",
    "\n",
    "where R is the radius of the Earth.\n"
   ]
  },
  {
   "cell_type": "markdown",
   "metadata": {},
   "source": [
    "#### b)"
   ]
  },
  {
   "cell_type": "code",
   "execution_count": 53,
   "metadata": {
    "scrolled": true
   },
   "outputs": [
    {
     "name": "stdout",
     "output_type": "stream",
     "text": [
      "Enter T (in seconds): 86400\n",
      "h = 35855910.17617497 m\n",
      "\n",
      "Enter T (in seconds): 5400\n",
      "h = 279321.62537285965 m\n",
      "\n",
      "Enter T (in seconds): 2700\n",
      "h = -2181559.8978108233 m\n",
      "\n"
     ]
    }
   ],
   "source": [
    "from numpy import pi\n",
    "\n",
    "G = 6.67 * (10**-11) #m^3 kg^−1 s^−2\n",
    "M = 5.97 * (10**24) #kg\n",
    "R = 6371000 #m\n",
    "\n",
    "for i in range(3):\n",
    "    T = float(input(\"Enter T (in seconds): \"))\n",
    "    print(f'h = {((G*M*(T**2))/(4*(pi**2)))**(1/3) - R} m\\n')"
   ]
  },
  {
   "cell_type": "markdown",
   "metadata": {},
   "source": [
    "A sidereal day is the amount of time it takes the Earth to rotate around its axis. This is approximately equal to 23.93 hrs which is often approximated to 24 hrs. Note that this is different from the Solar day -- how long it takes for the Sun to appear in the same position in the sky -- which is almost exactly 24 hrs because it also factors in the Earth rotating around the Sun. The difference in the distance is:"
   ]
  },
  {
   "cell_type": "code",
   "execution_count": 54,
   "metadata": {},
   "outputs": [
    {
     "name": "stdout",
     "output_type": "stream",
     "text": [
      "difference = 82147.8462793231 m\n",
      "\n"
     ]
    }
   ],
   "source": [
    "print(f'difference = {(((G*M*((24*60*60)**2))/(4*(pi**2)))**(1/3)-R)-(((G*M*((23.93*60*60)**2))/(4*(pi**2)))**(1/3)-R)} m\\n')"
   ]
  },
  {
   "cell_type": "markdown",
   "metadata": {},
   "source": [
    "### 2. Newman Exercise 2.7: Catalan numbers\n",
    "Catalan numbers are given by\n",
    "$$C_{0} = 1, C_{n+1} = \\frac{4n+2}{n+2}C_{n}$$"
   ]
  },
  {
   "cell_type": "code",
   "execution_count": 93,
   "metadata": {},
   "outputs": [
    {
     "name": "stdout",
     "output_type": "stream",
     "text": [
      "C_0\t= 1\n",
      "C_1\t= 1\n",
      "C_2\t= 2\n",
      "C_3\t= 5\n",
      "C_4\t= 14\n",
      "C_5\t= 42\n",
      "C_6\t= 132\n",
      "C_7\t= 429\n",
      "C_8\t= 1430\n",
      "C_9\t= 4862\n",
      "C_10\t= 16796\n",
      "C_11\t= 58786\n",
      "C_12\t= 208012\n",
      "C_13\t= 742900\n",
      "C_14\t= 2674440\n",
      "C_15\t= 9694845\n",
      "C_16\t= 35357670\n",
      "C_17\t= 129644790\n",
      "C_18\t= 477638700\n"
     ]
    }
   ],
   "source": [
    "def next_catalan(n, c_n):\n",
    "    return int(c_n*(4*n+2)/(n+2))\n",
    "\n",
    "\n",
    "n = 0\n",
    "c_n = 1\n",
    "while c_n <= 1000000000:\n",
    "    print(f'C_{n}\\t= {c_n}')\n",
    "    c_n = next_catalan(n, c_n)\n",
    "    n += 1"
   ]
  },
  {
   "cell_type": "markdown",
   "metadata": {},
   "source": [
    "### 3. Newman Exercise 2.10 parts (a) and (b): The semi-epirical mass formula\n",
    "The semi-empirical mass formula for calculating the approximate nuclear binding energy B of an atomic nucleus with atomic number Z and mass number A:\n",
    "$$B = a_{1}A − a_{2}A^{\\frac{2}{3}} − a_{3}\\frac{Z^2}{A^{\\frac{1}{3}}}−a_{4}\\frac{(A−2Z)^2}{A}+\\frac{a_{5}}{A^{\\frac{1}{2}}},$$\n",
    "where, in units of millions of electron volts, the constants are $a_{1} = 15.67$, $a_{2} = 17.23$,\n",
    "$a_{3} = 0.75$, $a_{4} = 93.2$, and\n",
    "$$\n",
    "a_{5} = \\left\\{\n",
    "        \\begin{array}{ll}\n",
    "            0 & \\text{if $A$ is odd,} \\\\\n",
    "            -12 & \\text{$A$ and $Z$ are both even} \\\\\n",
    "            12 & \\text{if $A$ is even and $Z$ is odd.}\n",
    "        \\end{array}\n",
    "    \\right.\n",
    "$$\n",
    "#### a) and b)"
   ]
  },
  {
   "cell_type": "code",
   "execution_count": 67,
   "metadata": {},
   "outputs": [
    {
     "name": "stdout",
     "output_type": "stream",
     "text": [
      "Enter Z: 28\n",
      "Enter A: 58\n",
      "\n",
      "Total binding energy = 493.93560680136824 MeV\n",
      "Binding energy per nucleon = 8.516131151747729 MeV\n"
     ]
    }
   ],
   "source": [
    "z_ab = int(input(\"Enter Z: \"))\n",
    "a_ab = float(input(\"Enter A: \"))\n",
    "\n",
    "a_1 = 15.67\n",
    "a_2 = 17.23\n",
    "a_3 = 0.75\n",
    "a_4 = 93.2\n",
    "\n",
    "def get_a_5(A, Z):\n",
    "    if A%2 == 0:\n",
    "        if Z%2 == 0:\n",
    "            return 12\n",
    "        else:\n",
    "            return -12\n",
    "    else:\n",
    "        return 0\n",
    "    \n",
    "a_5 = get_a_5(a_ab, z_ab)\n",
    "    \n",
    "def get_binding_energy(A, Z):\n",
    "    return a_1*A - a_2*(A**(2/3)) - a_3*(Z**2)/(A**(1/3)) - a_4*((A-2*Z)**2)/A + a_5/(A**(1/2))\n",
    "    \n",
    "b_ab = get_binding_energy(a_ab, z_ab)\n",
    "print(f'\\nTotal binding energy = {b_ab} MeV')\n",
    "print(f'Binding energy per nucleon = {b_ab/a_ab} MeV')"
   ]
  },
  {
   "cell_type": "markdown",
   "metadata": {},
   "source": [
    "### Newman Exercise 2.10 parts (c) and (d)\n",
    "#### c)"
   ]
  },
  {
   "cell_type": "code",
   "execution_count": null,
   "metadata": {},
   "outputs": [],
   "source": [
    "z_c = int(input(\"Enter Z: \"))\n",
    "\n",
    "a_val_c = -1\n",
    "ben_max_c = 0\n",
    "for a_c in range(z_c, 3*z_c+1):\n",
    "    a_5 = get_a_5(a_c, z_c)\n",
    "    ben_c = get_binding_energy(a_c, z_c)/a_c\n",
    "    if(ben_c > ben_max_c):\n",
    "        ben_max_c = ben_c\n",
    "        a_val_c = a_c\n",
    "\n",
    "print(f'A = {a_val_c}, B = {ben_max_c}')"
   ]
  },
  {
   "cell_type": "markdown",
   "metadata": {},
   "source": [
    "#### d)"
   ]
  },
  {
   "cell_type": "code",
   "execution_count": null,
   "metadata": {},
   "outputs": [],
   "source": [
    "for z_d in range(1, 101):\n",
    "    a_val_d = -1\n",
    "    ben_max_d = 0\n",
    "    for a_d in range(z_d, 3*z_d+1):\n",
    "        a_5 = get_a_5(a_d, z_d)\n",
    "        ben_d = get_binding_energy(a_d, z_d)/a_d\n",
    "        if(ben_d > ben_max_d):\n",
    "            ben_max_d = ben_d\n",
    "            a_val_d = a_d\n",
    "\n",
    "    print(f'Z = {z_d}, A = {a_val_d}, B/A = {ben_max_d}')"
   ]
  },
  {
   "cell_type": "markdown",
   "metadata": {},
   "source": [
    "### 5. *Catalan mountain ranges"
   ]
  },
  {
   "cell_type": "code",
   "execution_count": null,
   "metadata": {},
   "outputs": [
    {
     "name": "stdout",
     "output_type": "stream",
     "text": [
      "[0, 0, 0, 0]\n"
     ]
    }
   ],
   "source": [
    "# Code from Prof. Candela:\n",
    "# catalan.py  1/30/18  D. Candela\n",
    "#  for b in range(2**(2*n)):\n",
    "#      lst = [b >> shft & 1 for shft in range(2*n)]\n",
    "#      print(lst)\n",
    "\n",
    "print(range)\n",
    "\n",
    "def is_valid_catalan_range(movement):\n",
    "    sum = 0\n",
    "#     print(f'{movement}')\n",
    "    \n",
    "    for move in movement:\n",
    "        sum += (1 if move == 1 else -1)\n",
    "        if sum < 0:\n",
    "            return False\n",
    "        \n",
    "    return (sum == 0)\n",
    "\n",
    "n = int(input('n? '))\n",
    "print(f'C{n} = {sum([1 if is_valid_catalan_range([b >> shft & 1 for shft in range(2*n)]) else 0 for b in range(2**(2*n))])}')\n"
   ]
  },
  {
   "cell_type": "markdown",
   "metadata": {},
   "source": [
    "### 6. Pictures of Catalan mountain ranges (continuation of last problem)"
   ]
  },
  {
   "cell_type": "code",
   "execution_count": 101,
   "metadata": {},
   "outputs": [
    {
     "name": "stdout",
     "output_type": "stream",
     "text": [
      "Enter n: 2\n",
      "[0, 0, 0, 0]\n"
     ]
    },
    {
     "ename": "TypeError",
     "evalue": "'list' object is not callable",
     "output_type": "error",
     "traceback": [
      "\u001b[0;31m---------------------------------------------------------------------------\u001b[0m",
      "\u001b[0;31mTypeError\u001b[0m                                 Traceback (most recent call last)",
      "\u001b[0;32m<ipython-input-101-c13187f9d605>\u001b[0m in \u001b[0;36m<module>\u001b[0;34m\u001b[0m\n\u001b[1;32m      5\u001b[0m \u001b[0mprint\u001b[0m\u001b[0;34m(\u001b[0m\u001b[0mrange\u001b[0m\u001b[0;34m)\u001b[0m\u001b[0;34m\u001b[0m\u001b[0;34m\u001b[0m\u001b[0m\n\u001b[1;32m      6\u001b[0m \u001b[0;34m\u001b[0m\u001b[0m\n\u001b[0;32m----> 7\u001b[0;31m \u001b[0;32mfor\u001b[0m \u001b[0mb\u001b[0m \u001b[0;32min\u001b[0m \u001b[0mrange\u001b[0m\u001b[0;34m(\u001b[0m\u001b[0;36m2\u001b[0m\u001b[0;34m**\u001b[0m\u001b[0;34m(\u001b[0m\u001b[0;36m2\u001b[0m\u001b[0;34m*\u001b[0m\u001b[0mn\u001b[0m\u001b[0;34m)\u001b[0m\u001b[0;34m)\u001b[0m\u001b[0;34m:\u001b[0m\u001b[0;34m\u001b[0m\u001b[0;34m\u001b[0m\u001b[0m\n\u001b[0m\u001b[1;32m      8\u001b[0m     \u001b[0mr\u001b[0m \u001b[0;34m=\u001b[0m \u001b[0;34m[\u001b[0m\u001b[0mb\u001b[0m \u001b[0;34m>>\u001b[0m \u001b[0mshft\u001b[0m \u001b[0;34m&\u001b[0m \u001b[0;36m1\u001b[0m \u001b[0;32mfor\u001b[0m \u001b[0mshft\u001b[0m \u001b[0;32min\u001b[0m \u001b[0mrange\u001b[0m\u001b[0;34m(\u001b[0m\u001b[0;36m2\u001b[0m\u001b[0;34m*\u001b[0m\u001b[0mn\u001b[0m\u001b[0;34m)\u001b[0m\u001b[0;34m]\u001b[0m\u001b[0;34m\u001b[0m\u001b[0;34m\u001b[0m\u001b[0m\n\u001b[1;32m      9\u001b[0m     \u001b[0;32mif\u001b[0m\u001b[0;34m(\u001b[0m\u001b[0mis_valid_catalan_range\u001b[0m\u001b[0;34m(\u001b[0m\u001b[0mr\u001b[0m\u001b[0;34m)\u001b[0m\u001b[0;34m)\u001b[0m\u001b[0;34m:\u001b[0m\u001b[0;34m\u001b[0m\u001b[0;34m\u001b[0m\u001b[0m\n",
      "\u001b[0;31mTypeError\u001b[0m: 'list' object is not callable"
     ]
    }
   ],
   "source": [
    "valid = []\n",
    "\n",
    "n = int(input('Enter n: '))\n",
    "\n",
    "print(range)\n",
    "\n",
    "for b in range(2**(2*n)):\n",
    "    r = [b >> shft & 1 for shft in range(2*n)]\n",
    "    if(is_valid_catalan_range(r)):\n",
    "        valid_ranges.append(r)\n",
    "        \n",
    "print(valid_ranges)"
   ]
  },
  {
   "cell_type": "code",
   "execution_count": null,
   "metadata": {},
   "outputs": [],
   "source": []
  }
 ],
 "metadata": {
  "kernelspec": {
   "display_name": "Python 3",
   "language": "python",
   "name": "python3"
  },
  "language_info": {
   "codemirror_mode": {
    "name": "ipython",
    "version": 3
   },
   "file_extension": ".py",
   "mimetype": "text/x-python",
   "name": "python",
   "nbconvert_exporter": "python",
   "pygments_lexer": "ipython3",
   "version": "3.7.1"
  }
 },
 "nbformat": 4,
 "nbformat_minor": 2
}
