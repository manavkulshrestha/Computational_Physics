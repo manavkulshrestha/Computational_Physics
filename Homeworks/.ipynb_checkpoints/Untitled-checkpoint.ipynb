{
 "cells": [
  {
   "cell_type": "markdown",
   "metadata": {},
   "source": [
    "# Physics 281: Computational Physics\n",
    "\\- Manav Kulshrestha\n",
    "\n",
    "## Homework Set 1. 2/7/19."
   ]
  },
  {
   "cell_type": "markdown",
   "metadata": {},
   "source": [
    "### 1. Newman Exercise 2.2: Altitude of a sateliite\n",
    "#### a)\n",
    "\n",
    "Let the mass of the satelite be $m$ and the radius of its orbit be $r$. $F = ma$ where $F_{g} = G\\frac{Mm}{r^2}$ is the gravitational force on the satellite and $a = \\omega^2r$ is the acceleration for circular motion. The angular velocity of the satelite can be expressed in terms of the the period as $\\omega = \\frac{2\\pi}{T}$, substituting which into the equation for the force equation gives us $F_{c} = m(\\frac{2\\pi}{T})^2r$. Since $F_{c} = F_{g}$, the respective expressions can be set as equal to each other.\n",
    "\n",
    "$$m(\\frac{2\\pi}{T})^2r = G\\frac{Mm}{r^2} \\implies r = (\\frac{GMT^2}{4\\pi ^2})^\\frac{1}{3}$$\n",
    "\n",
    "where $r$ is the distance from the centre of the Earth to the satelite. From this, the altitude, $h$, of the satelite can be expressed as\n",
    "\n",
    "$$h = (\\frac{GMT^2}{4\\pi ^2})^\\frac{1}{3} - R$$\n",
    "\n",
    "where R is the radius of the Earth.\n"
   ]
  },
  {
   "cell_type": "markdown",
   "metadata": {},
   "source": [
    "#### b)"
   ]
  },
  {
   "cell_type": "code",
   "execution_count": 1,
   "metadata": {},
   "outputs": [
    {
     "name": "stdout",
     "output_type": "stream",
     "text": [
      "Enter T (in seconds): 86400\n",
      "h = 35855910.17617497 m\n",
      "\n",
      "Enter T (in seconds): 5400\n",
      "h = 279321.62537285965 m\n",
      "\n",
      "Enter T (in seconds): 2700\n",
      "h = -2181559.8978108233 m\n",
      "\n"
     ]
    }
   ],
   "source": [
    "from numpy import pi\n",
    "\n",
    "G = 6.67 * (10**-11) #m^3 kg^−1 s^−2\n",
    "M = 5.97 * (10**24) #kg\n",
    "R = 6371000 #m\n",
    "\n",
    "for i in range(3):\n",
    "    T = float(input(\"Enter T (in seconds): \"))\n",
    "    print(f'h = {((G*M*(T**2))/(4*(pi**2)))**(1/3) - R} m\\n')"
   ]
  },
  {
   "cell_type": "markdown",
   "metadata": {},
   "source": [
    "A sidereal day is the amount of time it takes the Earth to rotate around its axis. This is approximately equal to 23.93 hrs which is often approximated to 24 hrs. Note that this is different from the Solar day -- how long it takes for the Sun to appear in the same position in the sky -- which is almost exactly 24 hrs because it also factors in the Earth rotating around the Sun. The difference in the distance is:"
   ]
  },
  {
   "cell_type": "code",
   "execution_count": 2,
   "metadata": {},
   "outputs": [
    {
     "name": "stdout",
     "output_type": "stream",
     "text": [
      "difference = 82147.8462793231 m\n",
      "\n"
     ]
    }
   ],
   "source": [
    "print(f'difference = {(((G*M*((24*60*60)**2))/(4*(pi**2)))**(1/3)-R)-(((G*M*((23.93*60*60)**2))/(4*(pi**2)))**(1/3)-R)} m\\n')"
   ]
  },
  {
   "cell_type": "markdown",
   "metadata": {},
   "source": [
    "### 2. Newman Exercise 2.7: Catalan numbers\n",
    "Catalan numbers are given by\n",
    "$$C_{0} = 1, C_{n+1} = \\frac{4n+2}{n+2}C_{n}$$"
   ]
  },
  {
   "cell_type": "code",
   "execution_count": 3,
   "metadata": {},
   "outputs": [
    {
     "name": "stdout",
     "output_type": "stream",
     "text": [
      "C_0\t= 1\n",
      "C_1\t= 1\n",
      "C_2\t= 2\n",
      "C_3\t= 5\n",
      "C_4\t= 14\n",
      "C_5\t= 42\n",
      "C_6\t= 132\n",
      "C_7\t= 429\n",
      "C_8\t= 1430\n",
      "C_9\t= 4862\n",
      "C_10\t= 16796\n",
      "C_11\t= 58786\n",
      "C_12\t= 208012\n",
      "C_13\t= 742900\n",
      "C_14\t= 2674440\n",
      "C_15\t= 9694845\n",
      "C_16\t= 35357670\n",
      "C_17\t= 129644790\n",
      "C_18\t= 477638700\n"
     ]
    }
   ],
   "source": [
    "def next_catalan(n, c_n):\n",
    "    return int(c_n*(4*n+2)/(n+2))\n",
    "\n",
    "\n",
    "n = 0\n",
    "c_n = 1\n",
    "while c_n <= 1000000000:\n",
    "    print(f'C_{n}\\t= {c_n}')\n",
    "    c_n = next_catalan(n, c_n)\n",
    "    n += 1"
   ]
  },
  {
   "cell_type": "markdown",
   "metadata": {},
   "source": [
    "### 3. Newman Exercise 2.10 parts (a) and (b): The semi-epirical mass formula\n",
    "The semi-empirical mass formula for calculating the approximate nuclear binding energy B of an atomic nucleus with atomic number Z and mass number A:\n",
    "$$B = a_{1}A − a_{2}A^{\\frac{2}{3}} − a_{3}\\frac{Z^2}{A^{\\frac{1}{3}}}−a_{4}\\frac{(A−2Z)^2}{A}+\\frac{a_{5}}{A^{\\frac{1}{2}}},$$\n",
    "where, in units of millions of electron volts, the constants are $a_{1} = 15.67$, $a_{2} = 17.23$,\n",
    "$a_{3} = 0.75$, $a_{4} = 93.2$, and\n",
    "$$\n",
    "a_{5} = \\left\\{\n",
    "        \\begin{array}{ll}\n",
    "            0 & \\text{if $A$ is odd,} \\\\\n",
    "            -12 & \\text{$A$ and $Z$ are both even} \\\\\n",
    "            12 & \\text{if $A$ is even and $Z$ is odd.}\n",
    "        \\end{array}\n",
    "    \\right.\n",
    "$$\n",
    "#### a) and b)"
   ]
  },
  {
   "cell_type": "code",
   "execution_count": 4,
   "metadata": {},
   "outputs": [
    {
     "name": "stdout",
     "output_type": "stream",
     "text": [
      "Enter Z: 28\n",
      "Enter A: 58\n",
      "\n",
      "Total binding energy = 493.93560680136824 MeV\n",
      "Binding energy per nucleon = 8.516131151747729 MeV\n"
     ]
    }
   ],
   "source": [
    "z_ab = int(input(\"Enter Z: \"))\n",
    "a_ab = float(input(\"Enter A: \"))\n",
    "\n",
    "a_1 = 15.67\n",
    "a_2 = 17.23\n",
    "a_3 = 0.75\n",
    "a_4 = 93.2\n",
    "\n",
    "def get_a_5(A, Z):\n",
    "    if A%2 == 0:\n",
    "        if Z%2 == 0:\n",
    "            return 12\n",
    "        else:\n",
    "            return -12\n",
    "    else:\n",
    "        return 0\n",
    "    \n",
    "a_5 = get_a_5(a_ab, z_ab)\n",
    "    \n",
    "def get_binding_energy(A, Z):\n",
    "    return a_1*A - a_2*(A**(2/3)) - a_3*(Z**2)/(A**(1/3)) - a_4*((A-2*Z)**2)/A + a_5/(A**(1/2))\n",
    "    \n",
    "b_ab = get_binding_energy(a_ab, z_ab)\n",
    "print(f'\\nTotal binding energy = {b_ab} MeV')\n",
    "print(f'Binding energy per nucleon = {b_ab/a_ab} MeV')"
   ]
  },
  {
   "cell_type": "markdown",
   "metadata": {},
   "source": [
    "### Newman Exercise 2.10 parts (c) and (d)\n",
    "#### c)"
   ]
  },
  {
   "cell_type": "code",
   "execution_count": 5,
   "metadata": {},
   "outputs": [
    {
     "name": "stdout",
     "output_type": "stream",
     "text": [
      "Enter Z: 28\n",
      "A = 58, B = 8.516131151747729\n"
     ]
    }
   ],
   "source": [
    "z_c = int(input(\"Enter Z: \"))\n",
    "\n",
    "a_val_c = -1\n",
    "ben_max_c = 0\n",
    "for a_c in range(z_c, 3*z_c+1):\n",
    "    a_5 = get_a_5(a_c, z_c)\n",
    "    ben_c = get_binding_energy(a_c, z_c)/a_c\n",
    "    if(ben_c > ben_max_c):\n",
    "        ben_max_c = ben_c\n",
    "        a_val_c = a_c\n",
    "\n",
    "print(f'A = {a_val_c}, B = {ben_max_c}')"
   ]
  },
  {
   "cell_type": "markdown",
   "metadata": {},
   "source": [
    "#### d)"
   ]
  },
  {
   "cell_type": "code",
   "execution_count": 7,
   "metadata": {},
   "outputs": [
    {
     "name": "stdout",
     "output_type": "stream",
     "text": [
      "Z = 1, A = 0, B/A = 0\n",
      "Z = 2, A = 4, B/A = 5.843309761445089\n",
      "Z = 3, A = 6, B/A = 4.752357643495461\n",
      "Z = 4, A = 8, B/A = 6.835330085889912\n",
      "Z = 5, A = 10, B/A = 6.42277121416258\n",
      "Z = 6, A = 12, B/A = 7.450001408063262\n",
      "Z = 7, A = 15, B/A = 7.2759287595854785\n",
      "Z = 8, A = 16, B/A = 7.829219179670832\n",
      "Z = 9, A = 19, B/A = 7.7565457636093065\n",
      "Z = 10, A = 20, B/A = 8.075065994502456\n",
      "Z = 11, A = 23, B/A = 8.047741643605248\n",
      "Z = 12, A = 24, B/A = 8.238691826796318\n",
      "Z = 13, A = 27, B/A = 8.23400548696845\n",
      "Z = 14, A = 28, B/A = 8.347948969539557\n",
      "Z = 15, A = 31, B/A = 8.355316017924503\n",
      "Z = 16, A = 32, B/A = 8.419299763471765\n",
      "Z = 17, A = 35, B/A = 8.433300109655088\n",
      "Z = 18, A = 36, B/A = 8.463130252869773\n",
      "Z = 19, A = 39, B/A = 8.480797498293386\n",
      "Z = 20, A = 41, B/A = 8.495784570724105\n",
      "Z = 21, A = 43, B/A = 8.505969250374267\n",
      "Z = 22, A = 46, B/A = 8.521126546356417\n",
      "Z = 23, A = 47, B/A = 8.51427985673783\n",
      "Z = 24, A = 50, B/A = 8.532622751365931\n",
      "Z = 25, A = 51, B/A = 8.509541272617627\n",
      "Z = 26, A = 54, B/A = 8.529918878483894\n",
      "Z = 27, A = 55, B/A = 8.494502009034267\n",
      "Z = 28, A = 58, B/A = 8.516131151747729\n",
      "Z = 29, A = 59, B/A = 8.471198426724659\n",
      "Z = 30, A = 62, B/A = 8.493539040433166\n",
      "Z = 31, A = 63, B/A = 8.441173961358636\n",
      "Z = 32, A = 66, B/A = 8.463850079532241\n",
      "Z = 33, A = 69, B/A = 8.407023623298558\n",
      "Z = 34, A = 70, B/A = 8.428369633665127\n",
      "Z = 35, A = 73, B/A = 8.378546716689646\n",
      "Z = 36, A = 74, B/A = 8.388113269898794\n",
      "Z = 37, A = 77, B/A = 8.344202808885123\n",
      "Z = 38, A = 78, B/A = 8.343883240098318\n",
      "Z = 39, A = 81, B/A = 8.305002733727862\n",
      "Z = 40, A = 82, B/A = 8.296321819444412\n",
      "Z = 41, A = 85, B/A = 8.261750510640876\n",
      "Z = 42, A = 86, B/A = 8.24594931259649\n",
      "Z = 43, A = 89, B/A = 8.215093312348952\n",
      "Z = 44, A = 92, B/A = 8.19461382681585\n",
      "Z = 45, A = 93, B/A = 8.165557635885968\n",
      "Z = 46, A = 96, B/A = 8.147660087251849\n",
      "Z = 47, A = 97, B/A = 8.113575920303537\n",
      "Z = 48, A = 100, B/A = 8.09792588469997\n",
      "Z = 49, A = 101, B/A = 8.059506427776757\n",
      "Z = 50, A = 104, B/A = 8.045820701666507\n",
      "Z = 51, A = 105, B/A = 8.003648295151866\n",
      "Z = 52, A = 108, B/A = 7.9916857764084135\n",
      "Z = 53, A = 111, B/A = 7.94645235076544\n",
      "Z = 54, A = 112, B/A = 7.935807480620873\n",
      "Z = 55, A = 115, B/A = 7.893842076428151\n",
      "Z = 56, A = 116, B/A = 7.878427690702502\n",
      "Z = 57, A = 119, B/A = 7.839412042376312\n",
      "Z = 58, A = 120, B/A = 7.819751909047517\n",
      "Z = 59, A = 123, B/A = 7.783406816608566\n",
      "Z = 60, A = 124, B/A = 7.759955682578084\n",
      "Z = 61, A = 127, B/A = 7.726035276958766\n",
      "Z = 62, A = 130, B/A = 7.7005459914990935\n",
      "Z = 63, A = 131, B/A = 7.667476698492233\n",
      "Z = 64, A = 134, B/A = 7.643787578247822\n",
      "Z = 65, A = 135, B/A = 7.6078856509526185\n",
      "Z = 66, A = 138, B/A = 7.58583969107545\n",
      "Z = 67, A = 139, B/A = 7.547395967121129\n",
      "Z = 68, A = 142, B/A = 7.526853043899859\n",
      "Z = 69, A = 143, B/A = 7.486123979926559\n",
      "Z = 70, A = 146, B/A = 7.46695869996326\n",
      "Z = 71, A = 149, B/A = 7.427989147781526\n",
      "Z = 72, A = 150, B/A = 7.406271043404146\n",
      "Z = 73, A = 153, B/A = 7.369331436311893\n",
      "Z = 74, A = 154, B/A = 7.344890236341641\n",
      "Z = 75, A = 157, B/A = 7.309833806640477\n",
      "Z = 76, A = 158, B/A = 7.282904261469813\n",
      "Z = 77, A = 161, B/A = 7.249597778869266\n",
      "Z = 78, A = 164, B/A = 7.22310245870899\n",
      "Z = 79, A = 165, B/A = 7.188712895456172\n",
      "Z = 80, A = 168, B/A = 7.163577218102271\n",
      "Z = 81, A = 169, B/A = 7.127258348007435\n",
      "Z = 82, A = 172, B/A = 7.10339061133681\n",
      "Z = 83, A = 173, B/A = 7.065304351415036\n",
      "Z = 84, A = 176, B/A = 7.042620612142927\n",
      "Z = 85, A = 179, B/A = 7.005622315941091\n",
      "Z = 86, A = 180, B/A = 6.981336598852258\n",
      "Z = 87, A = 183, B/A = 6.945898605341501\n",
      "Z = 88, A = 184, B/A = 6.919600438263286\n",
      "Z = 89, A = 187, B/A = 6.885629827659542\n",
      "Z = 90, A = 190, B/A = 6.857606054313791\n",
      "Z = 91, A = 191, B/A = 6.824878368299097\n",
      "Z = 92, A = 194, B/A = 6.7980284984155\n",
      "Z = 93, A = 195, B/A = 6.763700169837886\n",
      "Z = 94, A = 198, B/A = 6.737957421244245\n",
      "Z = 95, A = 199, B/A = 6.702145489317908\n",
      "Z = 96, A = 202, B/A = 6.677447887170413\n",
      "Z = 97, A = 205, B/A = 6.641488369559367\n",
      "Z = 98, A = 206, B/A = 6.616549516348999\n",
      "Z = 99, A = 209, B/A = 6.5818849352304305\n",
      "Z = 100, A = 210, B/A = 6.5553070954027755\n"
     ]
    }
   ],
   "source": [
    "for z_d in range(1, 101):\n",
    "    a_val_d = 0\n",
    "    ben_max_d = 0\n",
    "    for a_d in range(z_d, 3*z_d+1):\n",
    "        a_5 = get_a_5(a_d, z_d)\n",
    "        ben_d = get_binding_energy(a_d, z_d)/a_d\n",
    "        if(ben_d > ben_max_d):\n",
    "            ben_max_d = ben_d\n",
    "            a_val_d = a_d\n",
    "\n",
    "    print(f'Z = {z_d}, A = {a_val_d}, B/A = {ben_max_d}')"
   ]
  },
  {
   "cell_type": "markdown",
   "metadata": {},
   "source": [
    "### 5. *Catalan mountain ranges"
   ]
  },
  {
   "cell_type": "code",
   "execution_count": 8,
   "metadata": {},
   "outputs": [
    {
     "name": "stdout",
     "output_type": "stream",
     "text": [
      "n? 6\n",
      "C6 = 132\n"
     ]
    }
   ],
   "source": [
    "# Code from Prof. Candela:\n",
    "# catalan.py  1/30/18  D. Candela\n",
    "#  for b in range(2**(2*n)):\n",
    "#      lst = [b >> shft & 1 for shft in range(2*n)]\n",
    "#      print(lst)\n",
    "\n",
    "def is_valid_catalan_range(movement):\n",
    "    sum = 0\n",
    "#     print(f'{movement}')\n",
    "    \n",
    "    for move in movement:\n",
    "        sum += (1 if move == 1 else -1)\n",
    "        if sum < 0:\n",
    "            return False\n",
    "        \n",
    "    return (sum == 0)\n",
    "\n",
    "n = int(input('n? '))\n",
    "print(f'C{n} = {sum([1 if is_valid_catalan_range([b >> shft & 1 for shft in range(2*n)]) else 0 for b in range(2**(2*n))])}')"
   ]
  },
  {
   "cell_type": "markdown",
   "metadata": {},
   "source": [
    "### 6. Pictures of Catalan mountain ranges (continuation of last problem)"
   ]
  },
  {
   "cell_type": "code",
   "execution_count": 11,
   "metadata": {},
   "outputs": [
    {
     "name": "stdout",
     "output_type": "stream",
     "text": [
      "Enter n: 2\n",
      "[[1, 1, 0, 0], [1, 0, 1, 0]]\n"
     ]
    }
   ],
   "source": [
    "valid = []\n",
    "\n",
    "n = int(input('Enter n: '))\n",
    "\n",
    "for b in range(2**(2*n)):\n",
    "    r = [b >> shft & 1 for shft in range(2*n)]\n",
    "    if(is_valid_catalan_range(r)):\n",
    "        valid.append(r)\n",
    "        \n",
    "print(valid)"
   ]
  },
  {
   "cell_type": "code",
   "execution_count": null,
   "metadata": {},
   "outputs": [],
   "source": []
  },
  {
   "cell_type": "code",
   "execution_count": null,
   "metadata": {},
   "outputs": [],
   "source": []
  }
 ],
 "metadata": {
  "kernelspec": {
   "display_name": "Python 3",
   "language": "python",
   "name": "python3"
  },
  "language_info": {
   "codemirror_mode": {
    "name": "ipython",
    "version": 3
   },
   "file_extension": ".py",
   "mimetype": "text/x-python",
   "name": "python",
   "nbconvert_exporter": "python",
   "pygments_lexer": "ipython3",
   "version": "3.7.1"
  }
 },
 "nbformat": 4,
 "nbformat_minor": 2
}
