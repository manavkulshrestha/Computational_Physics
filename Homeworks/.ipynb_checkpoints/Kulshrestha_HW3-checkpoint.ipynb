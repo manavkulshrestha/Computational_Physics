{
 "cells": [
  {
   "cell_type": "markdown",
   "metadata": {},
   "source": [
    "# Computational Physics 281\n",
    "\\- Manav Kulshrestha\n",
    "\n",
    "## Homework 3. 2/26/19."
   ]
  },
  {
   "cell_type": "markdown",
   "metadata": {},
   "source": [
    "### 1. Newman Exercise 2.11: Binominal coefficients\n",
    "#### a)\n",
    "\n",
    "I made a function for factorial and binomial and added a couple of test cases."
   ]
  },
  {
   "cell_type": "code",
   "execution_count": 17,
   "metadata": {},
   "outputs": [
    {
     "name": "stdout",
     "output_type": "stream",
     "text": [
      "These should all be 1:\n",
      "\n",
      "bin(0,0) = 1\n",
      "bin(1,0) = 1\n",
      "bin(2,0) = 1\n",
      "bin(3,0) = 1\n",
      "bin(4,0) = 1\n",
      "bin(5,0) = 1\n",
      "bin(6,0) = 1\n",
      "bin(7,0) = 1\n",
      "bin(8,0) = 1\n",
      "bin(9,0) = 1\n",
      "\n",
      "Testing with known results:\n",
      "\n",
      "Does binomial(9,4) match value known value?: True\n",
      "Does binomial(6,4) match value known value?: True\n",
      "Does binomial(13,7) match value known value?: True\n",
      "Does binomial(18,2) match value known value?: True\n",
      "Does binomial(11,5) match value known value?: True\n"
     ]
    }
   ],
   "source": [
    "def factorial(n):\n",
    "    if n == 0:\n",
    "        return 1\n",
    "    return n*factorial(n-1)\n",
    "\n",
    "def binomial(n,k):\n",
    "    return int(factorial(n)/(factorial(k)*factorial(n-k)))\n",
    "\n",
    "print('These should all be 1:\\n')\n",
    "for i in range(10):\n",
    "    print(f'bin({i},0) = {binomial(i,0)}')\n",
    "    \n",
    "print(f'\\nTesting with known results:\\n')\n",
    "print(f'Does binomial(9,4) match value known value?: {binomial(9,4) == 126}')\n",
    "print(f'Does binomial(6,4) match value known value?: {binomial(6,4) == 15}')\n",
    "print(f'Does binomial(13,7) match value known value?: {binomial(13,7) == 1716}')\n",
    "print(f'Does binomial(18,2) match value known value?: {binomial(18,2) == 153}')\n",
    "print(f'Does binomial(11,5) match value known value?: {binomial(11,5) == 462}')"
   ]
  },
  {
   "cell_type": "markdown",
   "metadata": {},
   "source": [
    "#### b)\n",
    "Note that I am including the 0th row, for the sake of rigour . If we wanted to not show the first row (which is just 1), the 'start' variable can be modified.\n",
    "\n",
    "Checking with known results (staring count from from 0):\n",
    "- 9th row and 4th entry is 126\n",
    "- 6th row and 4th entry is 15\n",
    "- 13th row and 7th entry is 1716\n",
    "- 18th row and 2th entry is 153\n",
    "- 11th row and 5th entry is 462"
   ]
  },
  {
   "cell_type": "code",
   "execution_count": 18,
   "metadata": {},
   "outputs": [
    {
     "name": "stdout",
     "output_type": "stream",
     "text": [
      "1\n",
      "1 1\n",
      "1 2 1\n",
      "1 3 3 1\n",
      "1 4 6 4 1\n",
      "1 5 10 10 5 1\n",
      "1 6 15 20 15 6 1\n",
      "1 7 21 35 35 21 7 1\n",
      "1 8 28 56 70 56 28 8 1\n",
      "1 9 36 84 126 126 84 36 9 1\n",
      "1 10 45 120 210 252 210 120 45 10 1\n",
      "1 11 55 165 330 462 462 330 165 55 11 1\n",
      "1 12 66 220 495 792 924 792 495 220 66 12 1\n",
      "1 13 78 286 715 1287 1716 1716 1287 715 286 78 13 1\n",
      "1 14 91 364 1001 2002 3003 3432 3003 2002 1001 364 91 14 1\n",
      "1 15 105 455 1365 3003 5005 6435 6435 5005 3003 1365 455 105 15 1\n",
      "1 16 120 560 1820 4368 8008 11440 12870 11440 8008 4368 1820 560 120 16 1\n",
      "1 17 136 680 2380 6188 12376 19448 24310 24310 19448 12376 6188 2380 680 136 17 1\n",
      "1 18 153 816 3060 8568 18564 31824 43758 48620 43758 31824 18564 8568 3060 816 153 18 1\n",
      "1 19 171 969 3876 11628 27132 50388 75582 92378 92378 75582 50388 27132 11628 3876 969 171 19 1\n",
      "1 20 190 1140 4845 15504 38760 77520 125970 167960 184756 167960 125970 77520 38760 15504 4845 1140 190 20 1\n"
     ]
    }
   ],
   "source": [
    "start = 0\n",
    "end = 20\n",
    "    \n",
    "print('\\n'.join(' '.join(str(binomial(row,col)) for col in range(row+1)) for row in range(start, end+1)))"
   ]
  },
  {
   "cell_type": "markdown",
   "metadata": {},
   "source": [
    "#### c)\n",
    "Here $X$ and $Y$ are random variables that represents the number of Heads obtained. I've implemented a general form for the binomial formula with takes an argument for the probability."
   ]
  },
  {
   "cell_type": "code",
   "execution_count": 19,
   "metadata": {},
   "outputs": [
    {
     "name": "stdout",
     "output_type": "stream",
     "text": [
      "X ~ bin(100,0.5)\n",
      "a) P(X = 60) = 0.010843866711637987\n",
      "b) P(X >= 60) = 0.028443966820490392\n",
      "\n",
      "Testing with provided values:\n",
      "\n",
      "Y ~ bin(10,0.5)\n",
      "P(Y = 5) = 0.24609375\n",
      "P(Y >= 5) = 0.623046875\n",
      "P(X >= 0) = 1.0000000000000002\n"
     ]
    }
   ],
   "source": [
    "def binomial_probability(n,p,k):\n",
    "    return binomial(n,k)*(p**k)*((1-p)**(n-k))\n",
    "\n",
    "def cummulative_binomial_probability(n,p,lower,higher):\n",
    "    return sum(binomial_probability(n,p,k) for k in range(lower,higher+1))\n",
    "\n",
    "print(\"X ~ bin(100,0.5)\")\n",
    "print(f'a) P(X = 60) = {binomial_probability(100,.5,60)}')\n",
    "print(f'b) P(X >= 60) = {cummulative_binomial_probability(100,.5,60,100)}\\n')\n",
    "\n",
    "print(f'Testing with provided values:\\n')\n",
    "\n",
    "print(\"Y ~ bin(10,0.5)\")\n",
    "print(f'P(Y = 5) = {binomial_probability(10,.5,5)}')\n",
    "print(f'P(Y >= 5) = {cummulative_binomial_probability(10,.5,5,10)}')\n",
    "print(f'P(X >= 0) = {cummulative_binomial_probability(100,.5,0,100)}')"
   ]
  },
  {
   "cell_type": "markdown",
   "metadata": {},
   "source": [
    "### 2. Newman Excercise 2.13: Recursive functions\n",
    "#### a)\n",
    "\n",
    "I implemented a recursive function for catalan and added a test case and then printed the first 100 catalan numbers using the function"
   ]
  },
  {
   "cell_type": "code",
   "execution_count": 20,
   "metadata": {},
   "outputs": [
    {
     "name": "stdout",
     "output_type": "stream",
     "text": [
      "Testing:\n",
      "\n",
      "Does C10 match value known value?: True\n",
      "\n",
      "C0 = 1\n",
      "C1 = 1\n",
      "C2 = 2\n",
      "C3 = 5\n",
      "C4 = 14\n",
      "C5 = 42\n",
      "C6 = 132\n",
      "C7 = 429\n",
      "C8 = 1430\n",
      "C9 = 4862\n",
      "C10 = 16796\n",
      "C11 = 58786\n",
      "C12 = 208012\n",
      "C13 = 742900\n",
      "C14 = 2674440\n",
      "C15 = 9694845\n",
      "C16 = 35357670\n",
      "C17 = 129644790\n",
      "C18 = 477638700\n",
      "C19 = 1767263190\n",
      "C20 = 6564120420\n",
      "C21 = 24466267020\n",
      "C22 = 91482563640\n",
      "C23 = 343059613650\n",
      "C24 = 1289904147324\n",
      "C25 = 4861946401452\n",
      "C26 = 18367353072152\n",
      "C27 = 69533550916004\n",
      "C28 = 263747951750360\n",
      "C29 = 1002242216651368\n",
      "C30 = 3814986502092304\n",
      "C31 = 14544636039226909\n",
      "C32 = 55534064877048198\n",
      "C33 = 212336130412243110\n",
      "C34 = 812944042149730764\n",
      "C35 = 3116285494907301262\n",
      "C36 = 11959798385860453492\n",
      "C37 = 45950804324621742364\n",
      "C38 = 176733862787006701400\n",
      "C39 = 680425371729975800390\n",
      "C40 = 2622127042276492108820\n",
      "C41 = 10113918591637898134020\n",
      "C42 = 39044429911904443959240\n",
      "C43 = 150853479205085351660700\n",
      "C44 = 583300119592996693088040\n",
      "C45 = 2257117854077248073253720\n",
      "C46 = 8740328711533173390046320\n",
      "C47 = 33868773757191046886429490\n",
      "C48 = 131327898242169365477991900\n",
      "C49 = 509552245179617138054608572\n",
      "C50 = 1978261657756160653623774456\n",
      "C51 = 7684785670514316385230816156\n",
      "C52 = 29869166945772625950142417512\n",
      "C53 = 116157871455782434250553845880\n",
      "C54 = 451959718027953471447609509424\n",
      "C55 = 1759414616608818870992479875972\n",
      "C56 = 6852456927844873497549658464312\n",
      "C57 = 26700952856774851904245220912664\n",
      "C58 = 104088460289122304033498318812080\n",
      "C59 = 405944995127576985730643443367112\n",
      "C60 = 1583850964596120042686772779038896\n",
      "C61 = 6182127958584855650487080847216336\n",
      "C62 = 24139737743045626825711458546273312\n",
      "C63 = 94295850558771979787935384946380125\n",
      "C64 = 368479169875816659479009042713546950\n",
      "C65 = 1440418573150919668872489894243865350\n",
      "C66 = 5632681584560312734993915705849145100\n",
      "C67 = 22033725021956517463358552614056949950\n",
      "C68 = 86218923998960285726185640663701108500\n",
      "C69 = 337485502510215975556783793455058624700\n",
      "C70 = 1321422108420282270489942177190229544600\n",
      "C71 = 5175569924646105559418940193995065716350\n",
      "C72 = 20276890389709399862928998568254641025700\n",
      "C73 = 79463489365077377841208237632349268884500\n",
      "C74 = 311496878311103321137536291518809134027240\n",
      "C75 = 1221395654430378811828760722007962130791020\n",
      "C76 = 4790408930363303911328386208394864461024520\n",
      "C77 = 18793142726809884575211361279087545193250040\n",
      "C78 = 73745243611532458459690151854647329239335600\n",
      "C79 = 289450081175264899454283846029490767264392230\n",
      "C80 = 1136359577947336271931632877004667456667613940\n",
      "C81 = 4462290049988320482463241297506133183499654740\n",
      "C82 = 17526585015616776834735140517915655636396234280\n",
      "C83 = 68854441132780194707888052034668647142985206100\n",
      "C84 = 270557451039395118028642463289168566420671280440\n",
      "C85 = 1063353702922273835973036658043476458723103404520\n",
      "C86 = 4180080073556524734514695828170907458428751314320\n",
      "C87 = 16435314834665426797069144960762886143367590394940\n",
      "C88 = 64633260585762914370496637486146181462681535261000\n",
      "C89 = 254224158304000796523953440778841647086547372026600\n",
      "C90 = 1000134600800354781929399250536541864362461089950800\n",
      "C91 = 3935312233584004685417853572763349509774031680023800\n",
      "C92 = 15487357822491889407128326963778343232013931127835600\n",
      "C93 = 60960876535340415751462563580829648891969728907438000\n",
      "C94 = 239993345518077005168915776623476723006280827488229600\n",
      "C95 = 944973797977428207852605870454939596837230758234904050\n",
      "C96 = 3721443204405954385563870541379246659709506697378694300\n",
      "C97 = 14657929356129575437016877846657032761712954950899755100\n",
      "C98 = 57743358069601357782187700608042856334020731624756611000\n",
      "C99 = 227508830794229349661819540395688853956041682601541047340\n",
      "C100 = 896519947090131496687170070074100632420837521538745909320\n"
     ]
    }
   ],
   "source": [
    "def catalan(n):\n",
    "    if n == 0:\n",
    "        return 1\n",
    "    return int((4*n-2)*catalan(n-1)//(n+1))\n",
    "\n",
    "print(f'Testing:\\n')\n",
    "print(f'Does C10 match value known value?: {catalan(10) == 16796}\\n')\n",
    "\n",
    "for n in range(101):\n",
    "    print(f'C{n} = {catalan(n)}')"
   ]
  },
  {
   "cell_type": "markdown",
   "metadata": {},
   "source": [
    "#### b)\n",
    "\n",
    "I implemented gcd using Euler's algorithm and then tested it with the given example and big prime numbers"
   ]
  },
  {
   "cell_type": "code",
   "execution_count": 21,
   "metadata": {},
   "outputs": [
    {
     "name": "stdout",
     "output_type": "stream",
     "text": [
      "gcd(108,192) = 12\n",
      "\n",
      "p2 = 3829283\n",
      "gcd(35128766213477,6065013708833) = 3829283\n"
     ]
    }
   ],
   "source": [
    "def gcd(m,n):\n",
    "    if n == 0:\n",
    "        return m\n",
    "    return gcd(n,m%n)\n",
    "\n",
    "print(f'gcd(108,192) = {gcd(108,192)}\\n')\n",
    "\n",
    "p1 = 9173719\n",
    "p2 = 3829283\n",
    "p3 = 1583851\n",
    "\n",
    "c1 = p1*p2\n",
    "c2 = p2*p3\n",
    "\n",
    "print(f'p2 = {p2}')\n",
    "print(f'gcd({c1},{c2}) = {gcd(c1,c2)}')"
   ]
  },
  {
   "cell_type": "markdown",
   "metadata": {},
   "source": [
    "### 3. STM data revisited\n",
    "\n",
    "Made a surface plot for the STM data (as oppposed to density plot) and then found a viewing angle that makes it easy to see the peaks as well as lets you make out the hexagonal shapes."
   ]
  },
  {
   "cell_type": "code",
   "execution_count": 22,
   "metadata": {},
   "outputs": [
    {
     "ename": "SyntaxError",
     "evalue": "unexpected character after line continuation character (<ipython-input-22-1d130f480126>, line 21)",
     "output_type": "error",
     "traceback": [
      "\u001b[1;36m  File \u001b[1;32m\"<ipython-input-22-1d130f480126>\"\u001b[1;36m, line \u001b[1;32m21\u001b[0m\n\u001b[1;33m    ax.set_xlabel('x')\\ax.set_ylabel('y')\u001b[0m\n\u001b[1;37m                                         ^\u001b[0m\n\u001b[1;31mSyntaxError\u001b[0m\u001b[1;31m:\u001b[0m unexpected character after line continuation character\n"
     ]
    }
   ],
   "source": [
    "import numpy as np\n",
    "import matplotlib.pyplot as plt\n",
    "from numpy import cos\n",
    "from mpl_toolkits.mplot3d import Axes3D\n",
    "from matplotlib import cm\n",
    "\n",
    "'''from HW2 code'''\n",
    "path = '../cpresources/stm.txt'\n",
    "z = np.loadtxt(path)\n",
    "\n",
    "'''Surface plot'''\n",
    "ny, nx = np.shape(z)\n",
    "x,y = np.meshgrid(range(nx),range(ny))\n",
    "\n",
    "# make the surface plot\n",
    "plt.figure(figsize=(12,8))\n",
    "plt.rc('font', size=12)\n",
    "ax = plt.gca(projection='3d')\n",
    "ax.plot_surface(x,y,z,cmap=cm.plasma, rcount=300, ccount=300)\n",
    "ax.set_zlim(-50, 100)\n",
    "ax.set_xlabel('x')\n",
    "ax.set_ylabel('y')\n",
    "ax.set_zlabel('z')\n",
    "ax.view_init(elev=70,azim=-67)\n",
    "plt.title('Suface Plot of STM data')\n",
    "\n",
    "plt.show()"
   ]
  },
  {
   "cell_type": "markdown",
   "metadata": {},
   "source": [
    "### 4. Focusing a laser beam\n",
    "\n",
    "$$E(x, z) = \\frac{E_0 w_0}{w(z)} e^{\\frac{-r^2}{w(z)^2}} \\cos\\Bigg(\\frac{2\\pi}{\\lambda} \\bigg(z + \\frac{r^2}{2 R(z)}\\bigg)\\Bigg)$$\n",
    "\n",
    "    where\n",
    "    \n",
    "$\\quad\\quad r = \\sqrt{x^2}, $\n",
    "        \n",
    "$\\quad\\quad z_R = \\frac{\\pi*w_0^2}{\\lambda}, $\n",
    "\n",
    "$\\quad\\quad w(z) = w_0 \\sqrt{1 + (\\frac{z}{z_R})^2}, $\n",
    "\n",
    "$\\quad\\quad R(z) = z \\Big(1 + \\frac{z}{z_R}\\Big). $\n",
    "\n",
    "I specified the provided interval using linspace and used it to create a meshgrid for $x$ and $z$. I then implemented all the above functions in python and passed in the meshgrids which results in $E(x, z)$ being plotted against $x$ and $z$."
   ]
  },
  {
   "cell_type": "code",
   "execution_count": 16,
   "metadata": {},
   "outputs": [
    {
     "data": {
      "image/png": "[encoded data removed]",
      "text/plain": [
       "<Figure size 648x432 with 2 Axes>"
      ]
     },
     "metadata": {
      "needs_background": "light"
     },
     "output_type": "display_data"
    }
   ],
   "source": [
    "w_0 = 1000 #nm\n",
    "l = 500 #nm\n",
    "E_0 = 1\n",
    "z_R = np.pi*(w_0**2)/l #V\\m\n",
    "\n",
    "x_ = np.linspace(-10*l, 10*l, 1000)\n",
    "z_ = np.linspace(-20*l, 20*l, 1000)\n",
    "\n",
    "x_mesh,z_mesh = np.meshgrid(x_,z_)\n",
    "\n",
    "def w(z):\n",
    "    return w_0*np.sqrt(1+(z/z_R)**2)\n",
    "\n",
    "def R(z):\n",
    "    return z*(1+(z_R/z)**2)\n",
    "\n",
    "def E(r,z):\n",
    "    return (E_0*w_0/w(z)) * np.exp(-r**2/(w(z)**2)) * np.cos((2*np.pi/l)*(z+(r**2/(2*R(z)))))\n",
    "\n",
    "plt.figure(figsize=(9,6))\n",
    "plt.imshow(E(np.sqrt(x_mesh**2), z_mesh))\n",
    "plt.colorbar()\n",
    "           \n",
    "plt.show()           "
   ]
  }
 ],
 "metadata": {
  "kernelspec": {
   "display_name": "Python 3",
   "language": "python",
   "name": "python3"
  },
  "language_info": {
   "codemirror_mode": {
    "name": "ipython",
    "version": 3
   },
   "file_extension": ".py",
   "mimetype": "text/x-python",
   "name": "python",
   "nbconvert_exporter": "python",
   "pygments_lexer": "ipython3",
   "version": "3.7.1"
  }
 },
 "nbformat": 4,
 "nbformat_minor": 2
}
